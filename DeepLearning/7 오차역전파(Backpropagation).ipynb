{
 "cells": [
  {
   "cell_type": "markdown",
   "id": "34cb40c3",
   "metadata": {},
   "source": [
    "## 오차역전파 (Backpropagation)"
   ]
  },
  {
   "cell_type": "markdown",
   "id": "c9fd116b",
   "metadata": {},
   "source": [
    "### 오차역전파 알고리즘\n",
    "- 학습 데이터로 정방향(forward) 연산을 통해 손실함수 값(loss)을 구함\n",
    "\n",
    "- 각 layer별로 역전파학습을 위해 중간값을 저장\n",
    "\n",
    "- 손실함수를 학습 파라미터(가중치, 편향)로 미분하여  \n",
    "  마지막 layer로부터 앞으로 하나씩 연쇄법칙을 이용하여 미분\n",
    "  각 layer를 통과할 때마다 저장된 값을 이용\n",
    "\n",
    "- 오류(error)를 전달하면서 학습 파라미터를 조금씩 갱신"
   ]
  },
  {
   "cell_type": "markdown",
   "id": "fc5dabf9",
   "metadata": {},
   "source": [
    "### 오차역전파 학습의 특징\n",
    "- 손실함수를 통한 평가를 한 번만 하고, 연쇄법칙을 이용한 미분을 활용하기 때문에  \n",
    "  학습 소요시간이 매우 단축!\n",
    "\n",
    "- 미분을 위한 중간값을 모두 저장하기 때문에 메모리를 많이 사용"
   ]
  },
  {
   "cell_type": "markdown",
   "id": "d0f1d9f7",
   "metadata": {},
   "source": [
    "### 신경망 학습에 있어서 미분가능의 중요성\n",
    "- 경사하강법(Gradient Descent)에서 손실 함수(cost function)의 최소값,  \n",
    "  즉, 최적값을 찾기 위한 방법으로 미분을 활용\n",
    "\n",
    "- 미분을 통해 손실 함수의 학습 매개변수(trainable parameter)를 갱신하여  \n",
    "  모델의 가중치의 최적값을 찾는 과정\n",
    "\n",
    "![](https://i.pinimg.com/originals/5d/13/20/5d1320c7b672710834e63b95a7c1037b.png)\n",
    "\n",
    "<sub>출처: https://www.pinterest.co.kr/pin/424816177350692379/</sub>"
   ]
  },
  {
   "cell_type": "markdown",
   "id": "0c637f58",
   "metadata": {},
   "source": [
    "### 합성함수의 미분 (연쇄법칙, chain rule)\n",
    "\n",
    "## $\\qquad \\frac{d}{dx} [f(g(x))] = f^\\prime(g(x))g^\\prime(x)$  \n",
    " \n",
    "\n",
    "- 여러 개 연속으로 사용가능  \n",
    "  ## $ \\quad \\frac{\\partial f}{\\partial x} = \\frac{\\partial f}{\\partial u} \\times \\frac{\\partial u}{\\partial m} \\times \\frac{\\partial m}{\\partial n} \\times \\ ... \\ \\frac{\\partial l}{\\partial k} \\times \\frac{\\partial k}{\\partial g} \\times \\frac{\\partial g}{\\partial x} \n",
    "  $\n",
    "- 각각에 대해 편미분 적용가능\n",
    "\n",
    "![](https://cdn-media-1.freecodecamp.org/images/1*_KMMFvRP5X9kC59brI0ykw.png)\n",
    "<sub>출처: https://www.freecodecamp.org/news/demystifying-gradient-descent-and-backpropagation-via-logistic-regression-based-image-classification-9b5526c2ed46/</sub>\n",
    "\n",
    "- **오차역전파의 직관적 이해**\n",
    "  - 학습을 진행하면서, 즉 손실함수의 최소값(minimum)을 찾아가는 과정에서 가중치 또는 편향의 변화에 따라 얼마나 영향을 받는지 알 수 있음"
   ]
  },
  {
   "cell_type": "markdown",
   "id": "bc733d2a",
   "metadata": {},
   "source": [
    "#### 합성함수 미분(chain rule) 예제\n",
    "\n",
    "![](https://miro.medium.com/max/1000/1*azqHvbrNsZ8AIZ7H75tbIQ.jpeg)\n",
    "\n",
    "<sub>출처: https://medium.com/spidernitt/breaking-down-neural-networks-an-intuitive-approach-to-backpropagation-3b2ff958794c</sub>\n",
    "\n",
    "  #### $\\quad a=-1, \\ b=3, \\ c=4$,\n",
    "  #### $\\quad x = a + b, \\ y = b + c, \\ f = x * y \\ 일 때$    \n",
    "\n",
    "\n",
    "\n",
    "  ### $\\quad \\begin{matrix}\\frac{\\partial f}{\\partial x} &=& y\\ + \\ x \\ \\frac{\\partial y}{\\partial x} \\\\\n",
    "  &=& (b \\ + \\ c) \\ + \\ (a \\ +\\ b)\\ \\times \\ 0 \\\\\n",
    "  &=& 7 \\end{matrix}$\n",
    "\n",
    "  ### $\\quad \\begin{matrix}\\frac{\\partial f}{\\partial y} &=& x\\ + \\ \\frac{\\partial x}{\\partial y} \\ y \\\\\n",
    "  &=& (a \\ + \\ b) \\ + \\ 0 \\times (b \\ +\\ c) \\\\\n",
    "  &=& 2 \\end{matrix}$\n",
    "\n",
    "   <br>\n",
    "\n",
    "  ### $ \\quad \\begin{matrix} \\frac{\\partial x}{\\partial a} &=& 1 \\ + \\ a \\ \\frac{\\partial b}{\\partial a} \\\\\n",
    "  &=& 1 \\end{matrix} $\n",
    "  ### $ \\quad \\begin{matrix} \\frac{\\partial y}{\\partial c} &=& \\frac{\\partial b}{\\partial c}\\ + 1 \\\\\n",
    "   &=& 1 \\end{matrix} $\n",
    "  \n",
    "  <br>\n",
    "\n",
    "  ### $ \\quad \\begin{matrix} \\frac{\\partial f}{\\partial a} &=& \\frac{\\partial f}{\\partial x} \\times \\frac{\\partial x}{\\partial a} \\\\\n",
    "  &=& y \\times 1 \\\\ \n",
    "  &=& 7 \\times 1 = 7 \\\\\n",
    "  &=& 7  \\end{matrix} $\n",
    "    \n",
    "  ### $ \\quad \\begin{matrix} \\frac{\\partial f}{\\partial b}\\ \n",
    "  &=& \\frac{\\partial x}{\\partial b} \\ y \\ + \\ x \\ \\frac{\\partial y}{\\partial b}  \\\\\n",
    "  &=& 1 \\times 7 + 2 \\times 1  \\\\\n",
    "  &=& 9 \\end{matrix} $\n",
    "  "
   ]
  },
  {
   "cell_type": "markdown",
   "id": "951f92e3",
   "metadata": {},
   "source": [
    "### 덧셈, 곱셈 계층의 역전파\n",
    "- 위 예제를 통해 아래 사항을 알 수 있음\n",
    "\n",
    "  #### 1. $\\quad z = x + y$ 일 때,\n",
    "  ## $\\frac{\\partial z}{\\partial x} = 1, \\frac{\\partial z}{\\partial y} = 1 $\n",
    "\n",
    "  #### 2. $\\quad t = xy$ 일 때,\n",
    "  ## $\\frac{\\partial t}{\\partial x} = y, \\frac{\\partial t}{\\partial y} = x$\n"
   ]
  },
  {
   "cell_type": "code",
   "execution_count": 1,
   "id": "ea748ea7",
   "metadata": {},
   "outputs": [],
   "source": [
    "class Mul():\n",
    "    \n",
    "    def __init__(self):\n",
    "        self.x = None\n",
    "        self.y = None\n",
    "    \n",
    "    def forward(self, x, y):\n",
    "        self.x = x\n",
    "        self.y = y\n",
    "        result = x * y\n",
    "        return result\n",
    "    \n",
    "    def backward(self,dresult):\n",
    "        dx = dresult * self.y\n",
    "        dy = dresult * self.x\n",
    "        return dx, dy\n",
    "    "
   ]
  },
  {
   "cell_type": "code",
   "execution_count": 2,
   "id": "94e51fb9",
   "metadata": {},
   "outputs": [],
   "source": [
    "class Add():\n",
    "    \n",
    "    def __init__(self):\n",
    "        self.x = None\n",
    "        self.y = None\n",
    "        \n",
    "    def forward(self, x, y):\n",
    "        self.x = x\n",
    "        self.y = y\n",
    "        result = x + y\n",
    "        return result\n",
    "    \n",
    "    def backward(self, dresult):\n",
    "        dx = dresult * 1\n",
    "        dy = dresult * 1\n",
    "        return dx,dy\n",
    "    "
   ]
  },
  {
   "cell_type": "code",
   "execution_count": 4,
   "id": "ba9ba5f5",
   "metadata": {},
   "outputs": [],
   "source": [
    "a,b,c = -1, 3, 4\n",
    "x = Add()\n",
    "y = Add()\n",
    "f = Mul()"
   ]
  },
  {
   "cell_type": "code",
   "execution_count": 5,
   "id": "8e0e045a",
   "metadata": {},
   "outputs": [
    {
     "name": "stdout",
     "output_type": "stream",
     "text": [
      "2\n",
      "7\n",
      "14\n"
     ]
    }
   ],
   "source": [
    "x_result = x.forward(a,b)\n",
    "y_result = y.forward(b,c)\n",
    "\n",
    "print(x_result)\n",
    "print(y_result)\n",
    "print(f.forward(x_result,y_result))"
   ]
  },
  {
   "cell_type": "code",
   "execution_count": 6,
   "id": "603da603",
   "metadata": {},
   "outputs": [
    {
     "name": "stdout",
     "output_type": "stream",
     "text": [
      "7 2\n",
      "7\n",
      "9\n",
      "2\n"
     ]
    }
   ],
   "source": [
    "dresult = 1\n",
    "dx_mul, dy_mul = f.backward(dresult)\n",
    "\n",
    "da_add, db_add_1 = x.backward(dx_mul)\n",
    "db_add_2, dc_add = y.backward(dy_mul)\n",
    "\n",
    "print(dx_mul, dy_mul)\n",
    "print(da_add)\n",
    "print(db_add_1+db_add_2)\n",
    "print(dc_add)"
   ]
  },
  {
   "cell_type": "markdown",
   "id": "befa114f",
   "metadata": {},
   "source": [
    "![](https://miro.medium.com/max/2000/1*U3mVDYuvnaLhJzIFw_d5qQ.png)\n",
    "<sub>출처: https://medium.com/spidernitt/breaking-down-neural-networks-an-intuitive-approach-to-backpropagation-3b2ff958794c</sub>"
   ]
  },
  {
   "cell_type": "markdown",
   "id": "4e2f9331",
   "metadata": {},
   "source": [
    "### 활성화 함수(Activation)에서의 역전파"
   ]
  },
  {
   "cell_type": "markdown",
   "id": "4900bc19",
   "metadata": {},
   "source": [
    "#### 시그모이드(Sigmoid) 함수\n",
    "\n",
    "![](https://media.geeksforgeeks.org/wp-content/uploads/20190911181329/Screenshot-2019-09-11-18.05.46.png)\n",
    "\n",
    "<sub>출처: https://www.geeksforgeeks.org/implement-sigmoid-function-using-numpy/</sub>\n",
    "\n",
    "- 수식 \n",
    "  # $\\quad y = \\frac{1}{1 + e^{-x}} $일 때,\n",
    "\n",
    "  ## $\\quad \\begin{matrix}y' &=& (\\frac{1}{1 + e^{-x}})' \\\\\n",
    "  &=& \\frac{-1}{(1 + e^{-x})^2}\\ \\times \\ (-e^{-x}) \\\\\n",
    "  &=& \\frac{1}{1 + e^{-x}} \\ \\times \\ \\frac{e^{-x}}{1 + e^{-x}} \\\\\n",
    "  &=& \\frac{1}{1 + e^{-x}} \\ \\times \\ (1 - \\frac{1}{1 + e^{-x}}) \\\\\n",
    "  &=& y\\ (1\\ - \\ y)\n",
    "  \\end{matrix}$"
   ]
  },
  {
   "cell_type": "code",
   "execution_count": 8,
   "id": "89d69804",
   "metadata": {},
   "outputs": [],
   "source": [
    "class Sigmoid():\n",
    "    \n",
    "    def __init__(self):\n",
    "        self.out = None\n",
    "        \n",
    "    def forward(self, x):\n",
    "        out = 1 / (1+np.exp(-x))\n",
    "        return out\n",
    "    \n",
    "    def backward(self, dout):\n",
    "        dx = dout * (1.0 - self.out) * self.dout\n",
    "        return dx"
   ]
  },
  {
   "cell_type": "markdown",
   "id": "5dede431",
   "metadata": {},
   "source": [
    "#### ReLU 함수\n",
    "\n",
    "![](https://3qeqpr26caki16dnhd19sv6by6v-wpengine.netdna-ssl.com/wp-content/uploads/2018/10/Line-Plot-of-Rectified-Linear-Activation-for-Negative-and-Positive-Inputs.png)\n",
    "\n",
    "<sub>출처: https://machinelearningmastery.com/rectified-linear-activation-function-for-deep-learning-neural-networks/</sub>\n",
    "\n",
    "\n",
    "- 수식  \n",
    "\n",
    "  ### $\\qquad y=\n",
    "  \\begin{cases}\n",
    "  x & (x \\ge 0)  \\\\\n",
    "  0 & (x < 0)\n",
    "  \\end{cases}$ 일 때,\n",
    "\n",
    "  <br>\n",
    "\n",
    "  ### $\\qquad \\frac{\\partial y}{\\partial x}=\n",
    "  \\begin{cases}\n",
    "  1 & (x \\ge 0)  \\\\\n",
    "  0 & (x < 0)\n",
    "  \\end{cases}$"
   ]
  },
  {
   "cell_type": "code",
   "execution_count": 9,
   "id": "503b8a45",
   "metadata": {},
   "outputs": [],
   "source": [
    "class ReLU():\n",
    "    \n",
    "    def __init(self):\n",
    "        self.out = None\n",
    "        \n",
    "    def forward(self, x):\n",
    "        self.mask = (x<0)\n",
    "        out = x.copy()\n",
    "        out[x<0] = 0\n",
    "        return out\n",
    "    \n",
    "    def backward(self, dout):\n",
    "        dout[self.mask] = 0\n",
    "        dx = dout\n",
    "        return dx"
   ]
  },
  {
   "cell_type": "markdown",
   "id": "ff78bfce",
   "metadata": {},
   "source": [
    "### 행렬 연산에 대한 역전파\n",
    "\n",
    "# $\\qquad Y = X \\bullet W + B$"
   ]
  },
  {
   "cell_type": "markdown",
   "id": "8b9dfdf2",
   "metadata": {},
   "source": [
    "#### 순전파(forward)\n",
    "  \n",
    "  - 형상(shape)을 맞춰줘야함\n",
    "  - 앞서 봤던 곱셈, 덧셈 계층을 합친 형태"
   ]
  },
  {
   "cell_type": "code",
   "execution_count": 14,
   "id": "e6e471c2",
   "metadata": {},
   "outputs": [
    {
     "name": "stdout",
     "output_type": "stream",
     "text": [
      "(3,)\n",
      "(3, 2)\n",
      "(2,)\n"
     ]
    }
   ],
   "source": [
    "import numpy as np\n",
    "\n",
    "X = np.random.rand(3)\n",
    "W = np.random.rand(3,2)\n",
    "B = np.random.rand(2)\n",
    "\n",
    "print(X.shape)\n",
    "print(W.shape)\n",
    "print(B.shape)"
   ]
  },
  {
   "cell_type": "code",
   "execution_count": 15,
   "id": "c150125f",
   "metadata": {},
   "outputs": [
    {
     "name": "stdout",
     "output_type": "stream",
     "text": [
      "(2,)\n"
     ]
    }
   ],
   "source": [
    "Y = np.dot(X,W) + B\n",
    "print(Y.shape)"
   ]
  },
  {
   "cell_type": "code",
   "execution_count": 16,
   "id": "b320cc6d",
   "metadata": {},
   "outputs": [
    {
     "name": "stdout",
     "output_type": "stream",
     "text": [
      "(3,)\n",
      "(2, 2)\n",
      "(2,)\n"
     ]
    }
   ],
   "source": [
    "X = np.random.rand(3)\n",
    "W = np.random.rand(2,2)\n",
    "B = np.random.rand(2)\n",
    "\n",
    "print(X.shape)\n",
    "print(W.shape)\n",
    "print(B.shape)"
   ]
  },
  {
   "cell_type": "code",
   "execution_count": 17,
   "id": "10766d5e",
   "metadata": {},
   "outputs": [
    {
     "ename": "ValueError",
     "evalue": "shapes (3,) and (2,2) not aligned: 3 (dim 0) != 2 (dim 0)",
     "output_type": "error",
     "traceback": [
      "\u001b[0;31m---------------------------------------------------------------------------\u001b[0m",
      "\u001b[0;31mValueError\u001b[0m                                Traceback (most recent call last)",
      "\u001b[0;32m<ipython-input-17-23bc31c4e306>\u001b[0m in \u001b[0;36m<module>\u001b[0;34m\u001b[0m\n\u001b[0;32m----> 1\u001b[0;31m \u001b[0mY\u001b[0m \u001b[0;34m=\u001b[0m \u001b[0mnp\u001b[0m\u001b[0;34m.\u001b[0m\u001b[0mdot\u001b[0m\u001b[0;34m(\u001b[0m\u001b[0mX\u001b[0m\u001b[0;34m,\u001b[0m\u001b[0mW\u001b[0m\u001b[0;34m)\u001b[0m \u001b[0;34m+\u001b[0m \u001b[0mB\u001b[0m\u001b[0;34m\u001b[0m\u001b[0;34m\u001b[0m\u001b[0m\n\u001b[0m\u001b[1;32m      2\u001b[0m \u001b[0mprint\u001b[0m\u001b[0;34m(\u001b[0m\u001b[0mY\u001b[0m\u001b[0;34m.\u001b[0m\u001b[0mshape\u001b[0m\u001b[0;34m)\u001b[0m\u001b[0;34m\u001b[0m\u001b[0;34m\u001b[0m\u001b[0m\n",
      "\u001b[0;32m<__array_function__ internals>\u001b[0m in \u001b[0;36mdot\u001b[0;34m(*args, **kwargs)\u001b[0m\n",
      "\u001b[0;31mValueError\u001b[0m: shapes (3,) and (2,2) not aligned: 3 (dim 0) != 2 (dim 0)"
     ]
    }
   ],
   "source": [
    "Y = np.dot(X,W) + B\n",
    "print(Y.shape)"
   ]
  },
  {
   "cell_type": "markdown",
   "id": "039494fc",
   "metadata": {},
   "source": [
    "#### 역전파(1)\n",
    "\n",
    "##  $\\  Y = X \\bullet W$\n",
    "- $X :\\ \\ (2,\\ )$\n",
    "\n",
    "- $W :\\ \\ (2,\\ 3)$\n",
    "\n",
    "- $X \\bullet W :\\ \\ (3,\\ )$\n",
    "\n",
    "- $\\frac{\\partial L}{\\partial Y} :\\ \\ (3,\\ )$\n",
    "\n",
    "- $\\frac{\\partial L}{\\partial X} = \\frac{\\partial L}{\\partial Y}\\bullet W^T ,\\ (2,\\ )$\n",
    "\n",
    "- $\\frac{\\partial L}{\\partial W} = X^T \\bullet \\frac{\\partial L}{\\partial Y} ,\\ (2,\\ 3)$\n"
   ]
  },
  {
   "cell_type": "code",
   "execution_count": 19,
   "id": "52e74d5b",
   "metadata": {},
   "outputs": [
    {
     "name": "stdout",
     "output_type": "stream",
     "text": [
      "X\n",
      "[-0.05005884 -0.13195751]\n",
      "W\n",
      "[[-0.23841557 -0.71180071 -0.94949345]\n",
      " [-0.26316674 -2.26919229  0.95939674]]\n",
      "Y\n",
      "[ 0.04666163  0.33506888 -0.07906907]\n"
     ]
    }
   ],
   "source": [
    "X = np.random.randn(2)\n",
    "W = np.random.randn(2,3)\n",
    "Y = np.dot(X,W)\n",
    "\n",
    "print('X\\n{}'.format(X))\n",
    "print('W\\n{}'.format(W))\n",
    "print('Y\\n{}'.format(Y))"
   ]
  },
  {
   "cell_type": "code",
   "execution_count": 20,
   "id": "5d1be17b",
   "metadata": {},
   "outputs": [
    {
     "name": "stdout",
     "output_type": "stream",
     "text": [
      "dL_dY\n",
      "[-2.15214507 -1.28805173  0.02630016]\n",
      "dL_dX\n",
      "[1.40496919 3.51444234]\n",
      "dL_dW\n",
      "[[ 0.10773388  0.06447837 -0.00131656]\n",
      " [ 0.28399171  0.1699681  -0.0034705 ]]\n"
     ]
    }
   ],
   "source": [
    "dL_dY = np.random.randn(3)\n",
    "dL_dX = np.dot(dL_dY,W.T)\n",
    "dL_dW = np.dot(X.reshape(-1,1),dL_dY.reshape(1,-1))\n",
    "\n",
    "print(\"dL_dY\\n{}\".format(dL_dY))\n",
    "print(\"dL_dX\\n{}\".format(dL_dX))\n",
    "print(\"dL_dW\\n{}\".format(dL_dW))"
   ]
  },
  {
   "cell_type": "markdown",
   "id": "0763ddf5",
   "metadata": {},
   "source": [
    "#### 역전파(2)\n",
    "\n",
    "## $\\ (2)\\  Y = X \\bullet W + B$\n",
    "- $X, W$는 위와 동일\n",
    "\n",
    "- $B: \\ (3, )$\n",
    "\n",
    "- $\\frac{\\partial L}{\\partial B} = \\frac{\\partial L}{\\partial Y}, \\ (3,\\ )$"
   ]
  },
  {
   "cell_type": "code",
   "execution_count": 21,
   "id": "71c0bc4c",
   "metadata": {},
   "outputs": [
    {
     "name": "stdout",
     "output_type": "stream",
     "text": [
      "[ 1.42135542 -0.47332905 -0.83706653]\n"
     ]
    }
   ],
   "source": [
    "X = np.random.randn(2)\n",
    "W = np.random.randn(2,3)\n",
    "B = np.random.randn(3)\n",
    "Y = np.dot(X,W) + B\n",
    "print(Y)"
   ]
  },
  {
   "cell_type": "code",
   "execution_count": 22,
   "id": "4238a8d3",
   "metadata": {},
   "outputs": [
    {
     "name": "stdout",
     "output_type": "stream",
     "text": [
      "dL_dY\n",
      "[ 0.28078074 -0.70001883 -1.21587559]\n",
      "dL_dX\n",
      "[-0.1407533  -0.94683037]\n",
      "dL_dW\n",
      "[[ 0.44893341 -1.11924285 -1.94403352]\n",
      " [-0.11863053  0.29575961  0.51371032]]\n",
      "dL_dB\n",
      "[ 0.28078074 -0.70001883 -1.21587559]\n"
     ]
    }
   ],
   "source": [
    "dL_dY = np.random.randn(3)\n",
    "dL_dX = np.dot(dL_dY, W.T)\n",
    "dL_dW = np.dot(X.reshape(-1,1),dL_dY.reshape(1,-1))\n",
    "dL_dB = dL_dY\n",
    "\n",
    "print('dL_dY\\n{}'.format(dL_dY))\n",
    "print('dL_dX\\n{}'.format(dL_dX))\n",
    "print('dL_dW\\n{}'.format(dL_dW))\n",
    "print('dL_dB\\n{}'.format(dL_dB))"
   ]
  },
  {
   "cell_type": "markdown",
   "id": "35e8e117",
   "metadata": {},
   "source": [
    "# 배치용 행렬 내적 계층\n",
    "- N개의 데이터에 대해,  \n",
    "# $\\qquad Y = X \\bullet W + B$\n",
    "\n",
    "  - $X : \\quad  (N,\\ 3)$\n",
    "\n",
    "  - $W : \\quad  (3,\\ 2)$\n",
    "\n",
    "  - $B : \\quad  (2,\\ )$"
   ]
  },
  {
   "cell_type": "code",
   "execution_count": 23,
   "id": "c9db15f0",
   "metadata": {},
   "outputs": [
    {
     "name": "stdout",
     "output_type": "stream",
     "text": [
      "(4, 3)\n",
      "(3, 2)\n",
      "(2,)\n"
     ]
    }
   ],
   "source": [
    "X = np.random.rand(4,3)\n",
    "W = np.random.rand(3,2)\n",
    "B = np.random.rand(2)\n",
    "\n",
    "print(X.shape)\n",
    "print(W.shape)\n",
    "print(B.shape)"
   ]
  },
  {
   "cell_type": "code",
   "execution_count": 24,
   "id": "43c2fb6b",
   "metadata": {},
   "outputs": [
    {
     "name": "stdout",
     "output_type": "stream",
     "text": [
      "X\n",
      "[[0.20492735 0.36361719 0.29758277]\n",
      " [0.85117364 0.74705208 0.17615092]\n",
      " [0.69082594 0.36045192 0.22238125]\n",
      " [0.95332919 0.02397989 0.08549796]]\n",
      "W\n",
      "[[0.96173769 0.98675698]\n",
      " [0.70909653 0.247846  ]\n",
      " [0.91904336 0.28362802]]\n",
      "B\n",
      "[0.05636506 0.37656364]\n"
     ]
    }
   ],
   "source": [
    "print('X\\n{}'.format(X))\n",
    "print('W\\n{}'.format(W))\n",
    "print('B\\n{}'.format(B))"
   ]
  },
  {
   "cell_type": "code",
   "execution_count": 25,
   "id": "08666a45",
   "metadata": {},
   "outputs": [
    {
     "name": "stdout",
     "output_type": "stream",
     "text": [
      "Y\n",
      "[[0.78478257 0.753301  ]\n",
      " [1.56659319 1.45158037]\n",
      " [1.18073162 1.21065107]\n",
      " [1.06879806 1.3474608 ]]\n",
      "Y.shape :  (4, 2)\n"
     ]
    }
   ],
   "source": [
    "Y = np.dot(X,W)+B\n",
    "\n",
    "print('Y\\n{}'.format(Y))\n",
    "print('Y.shape : ', Y.shape)"
   ]
  },
  {
   "cell_type": "code",
   "execution_count": 26,
   "id": "da693c5b",
   "metadata": {},
   "outputs": [
    {
     "name": "stdout",
     "output_type": "stream",
     "text": [
      "dL_dY\n",
      "[[ 3.73430246e-01  2.20657470e+00]\n",
      " [-1.25332393e+00  1.01434033e+00]\n",
      " [ 1.18209276e+00 -7.36806361e-01]\n",
      " [ 1.93545739e-03  6.29469273e-01]]\n",
      "dL_dX\n",
      "[[ 2.53649492  0.8116888   0.96904499]\n",
      " [-0.20446147 -0.63732746 -0.8641637 ]\n",
      " [ 0.40981434  0.65560337  0.87741558]\n",
      " [ 0.6229946   0.15738387  0.18031389]]\n",
      "dL_dW\n",
      "[[-0.17180475  1.40665373]\n",
      " [-0.37437857  1.30962488]\n",
      " [ 0.15339299  0.725282  ]]\n",
      "dL_dB\n",
      "[0.30413453 3.11357794]\n"
     ]
    }
   ],
   "source": [
    "dL_dY = np.random.randn(4,2)\n",
    "dL_dX = np.dot(dL_dY,W.T)\n",
    "dL_dW = np.dot(X.T, dL_dY)\n",
    "dL_dB = np.sum(dL_dY, axis=0)\n",
    "\n",
    "print('dL_dY\\n{}'.format(dL_dY))\n",
    "print('dL_dX\\n{}'.format(dL_dX))\n",
    "print('dL_dW\\n{}'.format(dL_dW))\n",
    "print('dL_dB\\n{}'.format(dL_dB))"
   ]
  },
  {
   "cell_type": "code",
   "execution_count": 30,
   "id": "da4194d7",
   "metadata": {},
   "outputs": [],
   "source": [
    "class Layer():\n",
    "    \n",
    "    def __init__(self):\n",
    "        self.W = np.random.randn(3,2)\n",
    "        self.b = np.random.randn(2)\n",
    "        self.x = None\n",
    "        self.dW = None\n",
    "        self.db = None\n",
    "        \n",
    "    def forward(self, x):\n",
    "        self.x = x\n",
    "        out = np.dot(x, self.W)+self.b\n",
    "        return out\n",
    "    \n",
    "    def backward(self, dout):\n",
    "        dx = np.dot(dout, self.W.T)\n",
    "        self.dW = np.dot(self.x.T, dout)\n",
    "        self.db = np.sum(dout, axis=0)\n",
    "        return dx"
   ]
  },
  {
   "cell_type": "code",
   "execution_count": 32,
   "id": "d9f5f1d4",
   "metadata": {},
   "outputs": [],
   "source": [
    "np.random.seed(111)\n",
    "\n",
    "layer = Layer()\n"
   ]
  },
  {
   "cell_type": "code",
   "execution_count": 33,
   "id": "2eec7acb",
   "metadata": {},
   "outputs": [
    {
     "name": "stdout",
     "output_type": "stream",
     "text": [
      "[[0.23868214 0.33765619 0.99071246]\n",
      " [0.23772645 0.08119266 0.66960024]]\n"
     ]
    }
   ],
   "source": [
    "X = np.random.rand(2,3)\n",
    "Y = layer.forward(X)\n",
    "\n",
    "print(X)"
   ]
  },
  {
   "cell_type": "code",
   "execution_count": 35,
   "id": "f4bd777f",
   "metadata": {},
   "outputs": [
    {
     "name": "stdout",
     "output_type": "stream",
     "text": [
      "[[-0.57717814  0.8894841  -1.01146255]\n",
      " [-0.5434705   0.86783399 -1.09728643]]\n"
     ]
    }
   ],
   "source": [
    "dout = np.random.rand(2,2)\n",
    "dout_dx = layer.backward(dout)\n",
    "\n",
    "print(dout_dx)"
   ]
  },
  {
   "cell_type": "markdown",
   "id": "db2a6871",
   "metadata": {},
   "source": [
    "### MNIST 분류 with 역전파"
   ]
  },
  {
   "cell_type": "markdown",
   "id": "a86d1aed",
   "metadata": {},
   "source": [
    "#### Modules Import"
   ]
  },
  {
   "cell_type": "code",
   "execution_count": 37,
   "id": "a83026cb",
   "metadata": {},
   "outputs": [],
   "source": [
    "import tensorflow as tf\n",
    "import numpy as np\n",
    "import matplotlib.pyplot as plt\n",
    "plt.style.use('seaborn-whitegrid')\n",
    "from collections import OrderedDict"
   ]
  },
  {
   "cell_type": "markdown",
   "id": "67c4319c",
   "metadata": {},
   "source": [
    "#### 데이터 로드"
   ]
  },
  {
   "cell_type": "code",
   "execution_count": 39,
   "id": "995ab564",
   "metadata": {},
   "outputs": [],
   "source": [
    "np.random.seed(42)\n",
    "\n",
    "mnist = tf.keras.datasets.mnist\n",
    "\n",
    "(X_train, y_train), (X_test, y_test) = mnist.load_data()\n",
    "\n",
    "num_classes = 10"
   ]
  },
  {
   "cell_type": "markdown",
   "id": "bc5abb7e",
   "metadata": {},
   "source": [
    "#### 데이터 전처리"
   ]
  },
  {
   "cell_type": "code",
   "execution_count": 40,
   "id": "e88da89e",
   "metadata": {},
   "outputs": [],
   "source": [
    "X_train, X_test = X_train.reshape(-1,28*28).astype(np.float32), X_test.reshape(-1,28*28).astype(np.float32)\n",
    "\n",
    "X_train /= .255\n",
    "X_test /= .255\n",
    "\n",
    "y_train = np.eye(num_classes)[y_train]"
   ]
  },
  {
   "cell_type": "code",
   "execution_count": 41,
   "id": "329ab965",
   "metadata": {},
   "outputs": [
    {
     "name": "stdout",
     "output_type": "stream",
     "text": [
      "(60000, 784)\n",
      "(60000, 10)\n",
      "(10000, 784)\n",
      "(10000,)\n"
     ]
    }
   ],
   "source": [
    "print(X_train.shape)\n",
    "print(y_train.shape)\n",
    "print(X_test.shape)\n",
    "print(y_test.shape)"
   ]
  },
  {
   "cell_type": "markdown",
   "id": "b360bb61",
   "metadata": {},
   "source": [
    "#### Hyper Parameters"
   ]
  },
  {
   "cell_type": "code",
   "execution_count": 42,
   "id": "4ae96dd4",
   "metadata": {},
   "outputs": [],
   "source": [
    "epochs = 1000\n",
    "learning_rate = 1e-3\n",
    "batch_size = 100\n",
    "train_size = X_train.shape[0]"
   ]
  },
  {
   "cell_type": "markdown",
   "id": "24b94361",
   "metadata": {},
   "source": [
    "#### Util Functions"
   ]
  },
  {
   "cell_type": "code",
   "execution_count": 65,
   "id": "5175a8b6",
   "metadata": {},
   "outputs": [],
   "source": [
    "def softmax(x):\n",
    "    if x.ndim == 2:\n",
    "        x = x.T\n",
    "        x = x - np.max(x,axis=0)\n",
    "        y = np.exp(x) / np.sum(np.exp(x),axis=0)\n",
    "        return y.T\n",
    "    x = x - np.max(x)\n",
    "    return np.exp(x) / np.sum(np.exp(x))\n",
    "\n",
    "def mean_squared_error(pred_y,true_y):\n",
    "    return 0.5 * np.sum((pred_y,true_y)**2)\n",
    "\n",
    "def cross_entropy_error(pred_y,true_y):\n",
    "    if pred_y.ndim == 1:\n",
    "        true_y = true_y.reshape(1, true_y.size)\n",
    "        pred_y = pred_y.reshape(1, pred_y.size)\n",
    "        \n",
    "    if true_y.size == pred_y.size:\n",
    "        true_y = true_y.argmax(axis=1)\n",
    "    \n",
    "    batch_size = pred_y.shape[0]\n",
    "    return -np.sum(np.log(pred_y[np.arange(batch_size), true_y] + 1e-7))/ batch_size\n",
    "\n",
    "def softmax_loss(X,true_y):\n",
    "    pred_y = softmax(X)\n",
    "    return cross_entropy_error(pred_y, true_y)"
   ]
  },
  {
   "cell_type": "markdown",
   "id": "e9d4272d",
   "metadata": {},
   "source": [
    "#### Util Classes"
   ]
  },
  {
   "cell_type": "markdown",
   "id": "86943261",
   "metadata": {},
   "source": [
    "##### ReLU"
   ]
  },
  {
   "cell_type": "code",
   "execution_count": 45,
   "id": "9932fdcf",
   "metadata": {},
   "outputs": [],
   "source": [
    "class ReLU():\n",
    "    def __init__(self):\n",
    "        self.out = None\n",
    "    \n",
    "    def forward(self, x):\n",
    "        self.mask = (x<0)\n",
    "        out = x.copy()\n",
    "        out[x<0] = 0\n",
    "        return out\n",
    "\n",
    "    def backward(self, dout):\n",
    "        dout[self.mask] = 0\n",
    "        dx = dout\n",
    "        return dx"
   ]
  },
  {
   "cell_type": "markdown",
   "id": "45fee10f",
   "metadata": {},
   "source": [
    "##### Sigmoid"
   ]
  },
  {
   "cell_type": "code",
   "execution_count": 46,
   "id": "f82171d0",
   "metadata": {},
   "outputs": [],
   "source": [
    "class Sigmoid():\n",
    "    def __init__(self):\n",
    "        self.out = None\n",
    "    \n",
    "    def forward(self, x):\n",
    "        out = 1 / (1 + np.exp(-x))\n",
    "        return out\n",
    "    \n",
    "    def backward(self, dout):\n",
    "        dx = dout * (1.0 - self.out) * self.dout\n",
    "        return dx"
   ]
  },
  {
   "cell_type": "markdown",
   "id": "277098b1",
   "metadata": {},
   "source": [
    "##### Layer"
   ]
  },
  {
   "cell_type": "code",
   "execution_count": 47,
   "id": "8274d514",
   "metadata": {},
   "outputs": [],
   "source": [
    "class Layer():\n",
    "    \n",
    "    def __init__(self, W, b):\n",
    "        self.W = W\n",
    "        self.b = b\n",
    "        \n",
    "        self.x = None\n",
    "        self.origin_x_shape = None\n",
    "        \n",
    "        self.dL_dW = None\n",
    "        self.dL_db = None\n",
    "        \n",
    "    def forward(self, x):\n",
    "        self.origin_x_shape = x.shape\n",
    "        \n",
    "        x = x.reshape(x.shape[0], -1)\n",
    "        self.x = x\n",
    "        out = np.dot(self.x, self.W) + self.b\n",
    "        \n",
    "        return out\n",
    "    \n",
    "    def backward(self, dout):\n",
    "        dx = np.dot(dout, self.W.T)\n",
    "        self.dL_dW = np.dot(self.x.T, dout)\n",
    "        self.dL_db = np.sum(dout, axis=0)\n",
    "        dx = dx.reshape(*self.origin_x_shape)\n",
    "        return dx"
   ]
  },
  {
   "cell_type": "markdown",
   "id": "35151d99",
   "metadata": {},
   "source": [
    "#### Softmax"
   ]
  },
  {
   "cell_type": "code",
   "execution_count": 48,
   "id": "f8d3d230",
   "metadata": {},
   "outputs": [],
   "source": [
    "class Softmax():\n",
    "    \n",
    "    def __init__(self):\n",
    "        self.loss = None\n",
    "        self.y = None\n",
    "        self.t = None\n",
    "        \n",
    "    def forward(self, x, t):\n",
    "        self.t = t\n",
    "        self.y = softmax(x)\n",
    "        self.loss = cross_entropy_error(self.y, self.t)\n",
    "        \n",
    "        return self.loss\n",
    "    \n",
    "    def backward(self, dout=1):\n",
    "        batch_size = self.t.shape[0]\n",
    "        \n",
    "        if self.t.size == self.y.size:\n",
    "            dx = (self.y - self.t) / batch_size\n",
    "        else:\n",
    "            dx = self.y.copy()\n",
    "            dx[np.arange(batch_size),self.t] -= 1\n",
    "            dx = dx / batch_size\n",
    "        \n",
    "        return dx"
   ]
  },
  {
   "cell_type": "code",
   "execution_count": 68,
   "id": "fd7ff8e8",
   "metadata": {},
   "outputs": [],
   "source": [
    "class MyModel():\n",
    "    \n",
    "    def __init__(self, input_size, hidden_size_list, output_size, activation='relu'):\n",
    "        self.input_size = input_size\n",
    "        self.output_size = output_size\n",
    "        self.hidden_size_list = hidden_size_list\n",
    "        self.hidden_layer_num = len(hidden_size_list)\n",
    "        self.params = {}\n",
    "        \n",
    "        self.__init_weights(activation)\n",
    "        \n",
    "        activation_layer = {'sigmoid' : Sigmoid, 'relu' : ReLU}\n",
    "        self.layers = OrderedDict()\n",
    "        for idx in range(1, self.hidden_layer_num + 1):\n",
    "            self.layers['Layer' + str(idx)] = Layer(self.params['W' + str(idx)], self.params['b' + str(idx)])\n",
    "            self.layers['Activation_function' + str(idx)] = activation_layer[activation]()\n",
    "            \n",
    "        idx = self.hidden_layer_num + 1\n",
    "        \n",
    "        self.layers['Layer' + str(idx)] = Layer(self.params['W' + str(idx)], self.params['b' + str(idx)])\n",
    "        \n",
    "        self.last_layer = Softmax()\n",
    "        \n",
    "    def __init_weights(self, activation):\n",
    "        weight_std = None\n",
    "        all_size_list = [self.input_size] + self.hidden_size_list + [self.output_size]\n",
    "        for idx in range(1, len(all_size_list)):\n",
    "            if activation.lower() == 'relu':\n",
    "                weight_std = np.sqrt(2.0/self.input_size)\n",
    "            elif activation.lower() == 'sigmoid':\n",
    "                weight_std = np.sqrt(1.0 / self.input_size)\n",
    "            \n",
    "            self.params['W' + str(idx)] = weight_std * np.random.randn(all_size_list[idx-1],all_size_list[idx])\n",
    "            self.params['b' + str(idx)] = np.random.randn(all_size_list[idx])\n",
    "            \n",
    "    def predict(self, x):\n",
    "        for layer in self.layers.values():\n",
    "            x = layer.forward(x)\n",
    "        \n",
    "        return x\n",
    "    \n",
    "    def loss(self, x, true_y):\n",
    "        pred_y = self.predict(x)\n",
    "        \n",
    "        return self.last_layer.forward(pred_y, true_y)\n",
    "    \n",
    "    def accuracy(self, x, true_y):\n",
    "        pred_y = self.predict(x)\n",
    "        pred_y = np.argmax(pred_y, axis=1)\n",
    "        \n",
    "        if true_y.ndim != 1:\n",
    "            true_y = np.argmax(true_y, axis=1)\n",
    "            \n",
    "        accuracy = np.sum(pred_y == true_y) / float(x.shape[0])\n",
    "        return accuracy\n",
    "    \n",
    "    def gradient(self, x, t):\n",
    "        self.loss(x,t)\n",
    "        \n",
    "        dout = 1\n",
    "        dout = self.last_layer.backward(dout)\n",
    "        \n",
    "        layers = list(self.layers.values())\n",
    "        layers.reverse()\n",
    "        for layer in layers:\n",
    "            dout = layer.backward(dout)\n",
    "            \n",
    "        grads = {}\n",
    "        \n",
    "        for idx in range(1, self.hidden_layer_num + 2):\n",
    "            grads['W' + str(idx)] = self.layers['Layer' + str(idx)].dL_dW\n",
    "            grads['b' + str(idx)] = self.layers['Layer' + str(idx)].dL_db\n",
    "            \n",
    "        return grads"
   ]
  },
  {
   "cell_type": "markdown",
   "id": "24ac2936",
   "metadata": {},
   "source": [
    "#### 모델 생성 및 학습"
   ]
  },
  {
   "cell_type": "code",
   "execution_count": 84,
   "id": "bb4c3d1b",
   "metadata": {},
   "outputs": [],
   "source": [
    "model = MyModel(28*28, [100,64,32], 10, activation='relu')"
   ]
  },
  {
   "cell_type": "code",
   "execution_count": 85,
   "id": "a30cbcf1",
   "metadata": {},
   "outputs": [],
   "source": [
    "train_loss_list = []\n",
    "train_acc_list = []\n",
    "test_acc_list = []"
   ]
  },
  {
   "cell_type": "code",
   "execution_count": 86,
   "id": "c9d21ff0",
   "metadata": {},
   "outputs": [
    {
     "name": "stdout",
     "output_type": "stream",
     "text": [
      "Epoch:1 Train Accuracy: 0.1119 Test Accuracy : 0.1153\n",
      "Epoch:51 Train Accuracy: 0.5242 Test Accuracy : 0.5290\n",
      "Epoch:101 Train Accuracy: 0.6553 Test Accuracy : 0.6630\n",
      "Epoch:151 Train Accuracy: 0.7220 Test Accuracy : 0.7206\n",
      "Epoch:201 Train Accuracy: 0.7608 Test Accuracy : 0.7644\n",
      "Epoch:251 Train Accuracy: 0.7912 Test Accuracy : 0.7951\n",
      "Epoch:301 Train Accuracy: 0.8082 Test Accuracy : 0.8121\n",
      "Epoch:351 Train Accuracy: 0.8157 Test Accuracy : 0.8191\n",
      "Epoch:401 Train Accuracy: 0.8367 Test Accuracy : 0.8418\n",
      "Epoch:451 Train Accuracy: 0.8446 Test Accuracy : 0.8467\n",
      "Epoch:501 Train Accuracy: 0.8520 Test Accuracy : 0.8559\n",
      "Epoch:551 Train Accuracy: 0.8559 Test Accuracy : 0.8596\n",
      "Epoch:601 Train Accuracy: 0.8653 Test Accuracy : 0.8684\n",
      "Epoch:651 Train Accuracy: 0.8693 Test Accuracy : 0.8705\n",
      "Epoch:701 Train Accuracy: 0.8753 Test Accuracy : 0.8751\n",
      "Epoch:751 Train Accuracy: 0.8761 Test Accuracy : 0.8786\n",
      "Epoch:801 Train Accuracy: 0.8834 Test Accuracy : 0.8857\n",
      "Epoch:851 Train Accuracy: 0.8841 Test Accuracy : 0.8836\n",
      "Epoch:901 Train Accuracy: 0.8901 Test Accuracy : 0.8892\n",
      "Epoch:951 Train Accuracy: 0.8880 Test Accuracy : 0.8837\n"
     ]
    }
   ],
   "source": [
    "for epoch in range(epochs):\n",
    "    batch_mask = np.random.choice(train_size, batch_size)\n",
    "    x_batch = X_train[batch_mask]\n",
    "    y_batch = y_train[batch_mask]\n",
    "    \n",
    "    grad = model.gradient(x_batch, y_batch)\n",
    "    \n",
    "    for key in model.params.keys():\n",
    "        model.params[key] -= learning_rate * grad[key]\n",
    "        \n",
    "    loss = model.loss(x_batch, y_batch)\n",
    "    train_loss_list.append(loss)\n",
    "    \n",
    "    if epoch % 50 == 0 :\n",
    "        train_acc = model.accuracy(X_train, y_train)\n",
    "        test_acc = model.accuracy(X_test, y_test)\n",
    "        train_acc_list.append(train_acc)\n",
    "        test_acc_list.append(test_acc)\n",
    "        print('Epoch:{} Train Accuracy: {:.4f} Test Accuracy : {:.4f}'.format(epoch+1, train_acc, test_acc))"
   ]
  },
  {
   "cell_type": "code",
   "execution_count": 87,
   "id": "d69bd745",
   "metadata": {},
   "outputs": [
    {
     "data": {
      "image/png": "[encoded data removed]",
      "text/plain": [
       "<Figure size 432x288 with 1 Axes>"
      ]
     },
     "metadata": {},
     "output_type": "display_data"
    }
   ],
   "source": [
    "plt.plot(np.arange(1000//50), train_acc_list, 'r--', label='train_acc')\n",
    "plt.plot(np.arange(1000//50), test_acc_list, 'b', label='test_acc')\n",
    "\n",
    "plt.title('Result')\n",
    "plt.xlabel('Epochs')\n",
    "plt.legend(loc=5)\n",
    "plt.grid()\n",
    "plt.show()"
   ]
  },
  {
   "cell_type": "code",
   "execution_count": 89,
   "id": "146564a6",
   "metadata": {},
   "outputs": [
    {
     "data": {
      "image/png": "[encoded data removed]",
      "text/plain": [
       "<Figure size 432x288 with 1 Axes>"
      ]
     },
     "metadata": {},
     "output_type": "display_data"
    }
   ],
   "source": [
    "plt.plot(np.arange(1000),train_loss_list, 'green', label = 'train_loss')\n",
    "plt.title('Train Loss')\n",
    "plt.xlabel('Epochs')\n",
    "plt.legend(loc=5)\n",
    "plt.grid()\n",
    "plt.show()"
   ]
  }
 ],
 "metadata": {
  "kernelspec": {
   "display_name": "Python 3",
   "language": "python",
   "name": "python3"
  },
  "language_info": {
   "codemirror_mode": {
    "name": "ipython",
    "version": 3
   },
   "file_extension": ".py",
   "mimetype": "text/x-python",
   "name": "python",
   "nbconvert_exporter": "python",
   "pygments_lexer": "ipython3",
   "version": "3.8.8"
  }
 },
 "nbformat": 4,
 "nbformat_minor": 5
}
